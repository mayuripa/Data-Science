{
 "cells": [
  {
   "cell_type": "markdown",
   "id": "0fe3715f",
   "metadata": {},
   "source": [
    "# Indexing,Slicing and Iterations on Array\n",
    "we will focus on 1D and 2D Arrays only."
   ]
  },
  {
   "cell_type": "code",
   "execution_count": 1,
   "id": "95f68c50",
   "metadata": {},
   "outputs": [],
   "source": [
    "import numpy as np"
   ]
  },
  {
   "cell_type": "markdown",
   "id": "5d34e7b1",
   "metadata": {},
   "source": [
    "## Indexing of Array\n",
    "1)Array indexing is the same as accessing an array element.<br>\n",
    "2)You can access an array element by referring to its index number.<br>\n",
    "3)The indexes in NumPy arrays start with 0, meaning that the first element has index 0, and the second has index 1 etc.<br>"
   ]
  },
  {
   "cell_type": "markdown",
   "id": "cc45e627",
   "metadata": {},
   "source": [
    "### Accesing the 1D Array."
   ]
  },
  {
   "cell_type": "code",
   "execution_count": 2,
   "id": "517b84cf",
   "metadata": {},
   "outputs": [],
   "source": [
    "a = np.array([1,2,3,4,5,6])"
   ]
  },
  {
   "cell_type": "code",
   "execution_count": 7,
   "id": "8c72176f",
   "metadata": {},
   "outputs": [
    {
     "name": "stdout",
     "output_type": "stream",
     "text": [
      "index 0 element 1\n",
      "index 1 element 2\n",
      "index 2 element 3\n",
      "index 3 element 4\n",
      "index 4 element 5\n",
      "index 5 element 6\n"
     ]
    }
   ],
   "source": [
    "for i in range(len(a)):\n",
    "    print('index',i,'element',a[i])"
   ]
  },
  {
   "cell_type": "markdown",
   "id": "13bc8b99",
   "metadata": {},
   "source": [
    "### Accesing the 2D Array"
   ]
  },
  {
   "cell_type": "code",
   "execution_count": 8,
   "id": "0c93e44f",
   "metadata": {},
   "outputs": [],
   "source": [
    "b = np.array([[1,2,3],[4,5,6],[7,8,9]])"
   ]
  },
  {
   "cell_type": "code",
   "execution_count": 9,
   "id": "6908c20c",
   "metadata": {},
   "outputs": [
    {
     "name": "stdout",
     "output_type": "stream",
     "text": [
      "index 0 element [1 2 3]\n",
      "index 1 element [4 5 6]\n",
      "index 2 element [7 8 9]\n"
     ]
    }
   ],
   "source": [
    "for i in range(len(b)):\n",
    "    print('index',i,'element',b[i])"
   ]
  },
  {
   "cell_type": "code",
   "execution_count": 13,
   "id": "8c0cde0e",
   "metadata": {},
   "outputs": [
    {
     "name": "stdout",
     "output_type": "stream",
     "text": [
      "index 0 0 element 1\n",
      "index 0 1 element 2\n",
      "index 0 2 element 3\n",
      "index 1 0 element 4\n",
      "index 1 1 element 5\n",
      "index 1 2 element 6\n",
      "index 2 0 element 7\n",
      "index 2 1 element 8\n",
      "index 2 2 element 9\n"
     ]
    }
   ],
   "source": [
    "for i in range(len(b)):\n",
    "    for j in range(len(b[i])):\n",
    "            print('index',i,j,'element',b[i,j])"
   ]
  },
  {
   "cell_type": "markdown",
   "id": "ac2d519c",
   "metadata": {},
   "source": [
    "## The nditer Function to iterate on Arrays"
   ]
  },
  {
   "cell_type": "code",
   "execution_count": 15,
   "id": "4d97e924",
   "metadata": {},
   "outputs": [
    {
     "name": "stdout",
     "output_type": "stream",
     "text": [
      "1\n",
      "2\n",
      "3\n",
      "4\n",
      "5\n",
      "6\n"
     ]
    }
   ],
   "source": [
    "for i in np.nditer(a):\n",
    "    print(i)"
   ]
  },
  {
   "cell_type": "code",
   "execution_count": 14,
   "id": "6758e37e",
   "metadata": {},
   "outputs": [
    {
     "name": "stdout",
     "output_type": "stream",
     "text": [
      "1\n",
      "2\n",
      "3\n",
      "4\n",
      "5\n",
      "6\n",
      "7\n",
      "8\n",
      "9\n"
     ]
    }
   ],
   "source": [
    "for i in np.nditer(b):\n",
    "    print(i)"
   ]
  },
  {
   "cell_type": "markdown",
   "id": "19a49ce1",
   "metadata": {},
   "source": [
    "## Slicing of Array \n",
    "Slicing in python means taking elements from one given index to another given index.\n",
    "\n",
    "We pass slice instead of index like this: [start:end].\n",
    "\n",
    "We can also define the step, like this: [start:end:step].\n",
    "\n",
    "If we don't pass start its considered 0\n",
    "\n",
    "If we don't pass end its considered length of array in that dimension\n",
    "\n",
    "If we don't pass step its considered 1"
   ]
  },
  {
   "cell_type": "markdown",
   "id": "4a120a1d",
   "metadata": {},
   "source": [
    "### Slicing of 1D Array"
   ]
  },
  {
   "cell_type": "code",
   "execution_count": 17,
   "id": "666bff2f",
   "metadata": {},
   "outputs": [
    {
     "name": "stdout",
     "output_type": "stream",
     "text": [
      "[1 2 3 4 5 6]\n"
     ]
    }
   ],
   "source": [
    "print(a)"
   ]
  },
  {
   "cell_type": "code",
   "execution_count": 20,
   "id": "02ce3eff",
   "metadata": {},
   "outputs": [
    {
     "name": "stdout",
     "output_type": "stream",
     "text": [
      "[3 4 5]\n",
      "[1 2 3 4 5]\n",
      "[3 4 5 6]\n",
      "[2 4]\n"
     ]
    }
   ],
   "source": [
    "print(a[2:5])\n",
    "print(a[:5])\n",
    "print(a[2:])\n",
    "print(a[1:4:2])"
   ]
  },
  {
   "cell_type": "markdown",
   "id": "e68f4a56",
   "metadata": {},
   "source": [
    "### Slicing of 2D Array"
   ]
  },
  {
   "cell_type": "code",
   "execution_count": 21,
   "id": "eaf069a5",
   "metadata": {},
   "outputs": [
    {
     "name": "stdout",
     "output_type": "stream",
     "text": [
      "[[1 2 3]\n",
      " [4 5 6]\n",
      " [7 8 9]]\n"
     ]
    }
   ],
   "source": [
    "print(b)"
   ]
  },
  {
   "cell_type": "code",
   "execution_count": 22,
   "id": "c6591d2b",
   "metadata": {},
   "outputs": [
    {
     "name": "stdout",
     "output_type": "stream",
     "text": [
      "[[5 6]\n",
      " [8 9]]\n"
     ]
    }
   ],
   "source": [
    "print(b[1:3,1:3])"
   ]
  },
  {
   "cell_type": "code",
   "execution_count": 23,
   "id": "60e7e297",
   "metadata": {},
   "outputs": [
    {
     "name": "stdout",
     "output_type": "stream",
     "text": [
      "[[1 2 3]\n",
      " [4 5 6]]\n"
     ]
    }
   ],
   "source": [
    "print(b[:2])"
   ]
  },
  {
   "cell_type": "code",
   "execution_count": 26,
   "id": "8bc294de",
   "metadata": {},
   "outputs": [
    {
     "name": "stdout",
     "output_type": "stream",
     "text": [
      "[[2 3]\n",
      " [5 6]\n",
      " [8 9]]\n"
     ]
    }
   ],
   "source": [
    "print(b[0:3,1:3])"
   ]
  }
 ],
 "metadata": {
  "kernelspec": {
   "display_name": "Python 3 (ipykernel)",
   "language": "python",
   "name": "python3"
  },
  "language_info": {
   "codemirror_mode": {
    "name": "ipython",
    "version": 3
   },
   "file_extension": ".py",
   "mimetype": "text/x-python",
   "name": "python",
   "nbconvert_exporter": "python",
   "pygments_lexer": "ipython3",
   "version": "3.9.12"
  }
 },
 "nbformat": 4,
 "nbformat_minor": 5
}
