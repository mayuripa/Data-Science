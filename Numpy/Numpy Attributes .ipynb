{
 "cells": [
  {
   "cell_type": "markdown",
   "id": "ce8ebb18",
   "metadata": {},
   "source": [
    "# Some Attributes of Numpy.\n",
    "1)Shape<br>\n",
    "2)ndim <br>\n",
    "3)Size <br>\n",
    "4)Item size<br>\n",
    "5)dtype<br>\n"
   ]
  },
  {
   "cell_type": "code",
   "execution_count": 1,
   "id": "c630fadd",
   "metadata": {},
   "outputs": [],
   "source": [
    "import numpy as np"
   ]
  },
  {
   "cell_type": "code",
   "execution_count": 2,
   "id": "46b4a227",
   "metadata": {},
   "outputs": [],
   "source": [
    "a = np.array([1,2,3,4])"
   ]
  },
  {
   "cell_type": "code",
   "execution_count": 4,
   "id": "50721f4b",
   "metadata": {},
   "outputs": [],
   "source": [
    "b = np.array([[1,2,3],[4,5,6]])"
   ]
  },
  {
   "cell_type": "code",
   "execution_count": 6,
   "id": "3d2cff33",
   "metadata": {},
   "outputs": [],
   "source": [
    "c = np.array([[[1,2,3],[4,5,6]],[[7,8,9],[10,11,12]]])"
   ]
  },
  {
   "cell_type": "code",
   "execution_count": 15,
   "id": "41d4710a",
   "metadata": {},
   "outputs": [],
   "source": [
    "d = np.array([1.1,2.1,3.1,4.1],ndmin=2)"
   ]
  },
  {
   "cell_type": "markdown",
   "id": "9a5cc937",
   "metadata": {},
   "source": [
    "## Shape of an Array\n",
    "1)The shape of an array is the number of elements in each dimension.<br>\n",
    "2)ndArray.shape<br>\n"
   ]
  },
  {
   "cell_type": "code",
   "execution_count": 38,
   "id": "9b6be6f0",
   "metadata": {},
   "outputs": [
    {
     "name": "stdout",
     "output_type": "stream",
     "text": [
      "(4,)\n",
      "(2, 3)\n",
      "(2, 2, 3)\n",
      "(1, 4)\n"
     ]
    }
   ],
   "source": [
    "print(a.shape)\n",
    "print(b.shape)\n",
    "print(c.shape)\n",
    "print(d.shape)"
   ]
  },
  {
   "cell_type": "markdown",
   "id": "79586c86",
   "metadata": {},
   "source": [
    "## Dimension of the Array\n",
    "1)Number of array dimensions.<br>\n",
    "2)numpy.ndarray.ndim<br>\n"
   ]
  },
  {
   "cell_type": "code",
   "execution_count": 17,
   "id": "1422866e",
   "metadata": {},
   "outputs": [
    {
     "name": "stdout",
     "output_type": "stream",
     "text": [
      "1\n",
      "2\n",
      "3\n",
      "2\n"
     ]
    }
   ],
   "source": [
    "print(a.ndim)\n",
    "print(b.ndim)\n",
    "print(c.ndim)\n",
    "print(d.ndim)"
   ]
  },
  {
   "cell_type": "markdown",
   "id": "3db230bc",
   "metadata": {},
   "source": [
    "## Number of elements in Array\n",
    "\n",
    "1)Number of elements in the array.<br>\n",
    "2)ndarray.size"
   ]
  },
  {
   "cell_type": "code",
   "execution_count": 18,
   "id": "ef421538",
   "metadata": {},
   "outputs": [
    {
     "name": "stdout",
     "output_type": "stream",
     "text": [
      "4\n",
      "6\n",
      "12\n",
      "4\n"
     ]
    }
   ],
   "source": [
    "print(a.size)\n",
    "print(b.size)\n",
    "print(c.size)\n",
    "print(d.size)"
   ]
  },
  {
   "cell_type": "markdown",
   "id": "4b9d758a",
   "metadata": {},
   "source": [
    "## Size of elements in byte\n",
    "\n",
    "1)Length of one array element in bytes.<br>\n",
    "2)ndarray.itemsize"
   ]
  },
  {
   "cell_type": "code",
   "execution_count": 19,
   "id": "7d41e920",
   "metadata": {},
   "outputs": [
    {
     "name": "stdout",
     "output_type": "stream",
     "text": [
      "4\n",
      "4\n",
      "4\n",
      "8\n"
     ]
    }
   ],
   "source": [
    "print(a.itemsize)\n",
    "print(b.itemsize)\n",
    "print(c.itemsize)\n",
    "print(d.itemsize)"
   ]
  },
  {
   "cell_type": "markdown",
   "id": "d2e707d0",
   "metadata": {},
   "source": [
    "## Data type of Array elements.\n",
    "\n",
    "1)Data-type of the array’s elements.<br>\n",
    "2)ndarray.dtype"
   ]
  },
  {
   "cell_type": "code",
   "execution_count": 21,
   "id": "008518d6",
   "metadata": {},
   "outputs": [
    {
     "name": "stdout",
     "output_type": "stream",
     "text": [
      "int32\n",
      "int32\n",
      "int32\n",
      "float64\n"
     ]
    }
   ],
   "source": [
    "print(a.dtype)\n",
    "print(b.dtype)\n",
    "print(c.dtype)\n",
    "print(d.dtype)"
   ]
  },
  {
   "cell_type": "markdown",
   "id": "2a8ff12f",
   "metadata": {},
   "source": [
    "## Change the Data type of Array elements.\n",
    "\n",
    "1)Copy of the array, cast to a specified type.<br>\n",
    "2)ndarray.astype(dtype, order='K', casting='unsafe', subok=True, copy=True)<br>\n",
    "3)Parameters:<br>\n",
    "dtype  = str or dtype<br>\n",
    "Typecode or data-type to which the array is cast."
   ]
  },
  {
   "cell_type": "code",
   "execution_count": 39,
   "id": "e41a3549",
   "metadata": {},
   "outputs": [
    {
     "data": {
      "text/plain": [
       "array([1., 2., 3., 4.])"
      ]
     },
     "execution_count": 39,
     "metadata": {},
     "output_type": "execute_result"
    }
   ],
   "source": [
    "e = a.astype('float')\n",
    "e"
   ]
  },
  {
   "cell_type": "code",
   "execution_count": 40,
   "id": "42107086",
   "metadata": {},
   "outputs": [
    {
     "data": {
      "text/plain": [
       "array([[1, 2, 3, 4]])"
      ]
     },
     "execution_count": 40,
     "metadata": {},
     "output_type": "execute_result"
    }
   ],
   "source": [
    "f = d.astype('int')\n",
    "f"
   ]
  }
 ],
 "metadata": {
  "kernelspec": {
   "display_name": "Python 3 (ipykernel)",
   "language": "python",
   "name": "python3"
  },
  "language_info": {
   "codemirror_mode": {
    "name": "ipython",
    "version": 3
   },
   "file_extension": ".py",
   "mimetype": "text/x-python",
   "name": "python",
   "nbconvert_exporter": "python",
   "pygments_lexer": "ipython3",
   "version": "3.9.12"
  }
 },
 "nbformat": 4,
 "nbformat_minor": 5
}
