{
 "cells": [
  {
   "cell_type": "markdown",
   "id": "b4d5256a",
   "metadata": {},
   "source": [
    "# Introduction to Array with numpy\n",
    "NumPy is used to work with arrays. <br>\n",
    "The array object in NumPy is called ndarray.<br>\n",
    "We can create a NumPy ndarray object by using the array() function.<br>"
   ]
  },
  {
   "cell_type": "code",
   "execution_count": 2,
   "id": "5b103a98",
   "metadata": {},
   "outputs": [],
   "source": [
    "import numpy as np"
   ]
  },
  {
   "cell_type": "code",
   "execution_count": 3,
   "id": "fef34b9a",
   "metadata": {},
   "outputs": [
    {
     "name": "stdout",
     "output_type": "stream",
     "text": [
      "1.21.5\n"
     ]
    }
   ],
   "source": [
    "print(np.__version__)"
   ]
  },
  {
   "cell_type": "markdown",
   "id": "71a8bb7f",
   "metadata": {},
   "source": [
    "## 0-Dimension Array\n",
    "0-D arrays, or Scalars, are the elements in an array. Each value in an array is a 0-D array."
   ]
  },
  {
   "cell_type": "code",
   "execution_count": 7,
   "id": "d0eb74f4",
   "metadata": {},
   "outputs": [],
   "source": [
    "a = np.array(42)"
   ]
  },
  {
   "cell_type": "code",
   "execution_count": 8,
   "id": "281ce499",
   "metadata": {},
   "outputs": [
    {
     "name": "stdout",
     "output_type": "stream",
     "text": [
      "42\n",
      "<class 'numpy.ndarray'>\n"
     ]
    }
   ],
   "source": [
    "print(a)\n",
    "print(type(a))"
   ]
  },
  {
   "cell_type": "markdown",
   "id": "352d7494",
   "metadata": {},
   "source": [
    "## 1-Dimension Array\n",
    "An array that has 0-D arrays as its elements is called uni-dimensional or 1-D array.<br>\n",
    "These are the most common and basic arrays.<br>"
   ]
  },
  {
   "cell_type": "code",
   "execution_count": 10,
   "id": "ca28f227",
   "metadata": {},
   "outputs": [
    {
     "name": "stdout",
     "output_type": "stream",
     "text": [
      "[1 2 3 4]\n"
     ]
    }
   ],
   "source": [
    "b = np.array([1,2,3,4])\n",
    "print(b)"
   ]
  },
  {
   "cell_type": "markdown",
   "id": "1f82911d",
   "metadata": {},
   "source": [
    "## 2-Dimension Array\n",
    "An array that has 1-D arrays as its elements is called a 2-D array.<br>\n",
    "These are often used to represent matrix or 2nd order tensors.<br>"
   ]
  },
  {
   "cell_type": "code",
   "execution_count": 13,
   "id": "aad3793a",
   "metadata": {},
   "outputs": [
    {
     "name": "stdout",
     "output_type": "stream",
     "text": [
      "[[1 2 3 4]\n",
      " [4 5 6 7]]\n"
     ]
    }
   ],
   "source": [
    "c = np.array([[1,2,3,4],[4,5,6,7]])\n",
    "print(c)"
   ]
  },
  {
   "cell_type": "markdown",
   "id": "9f154f38",
   "metadata": {},
   "source": [
    "## 3-Dimension Array\n",
    "An array that has 2-D arrays (matrices) as its elements is called 3-D array.<br>\n",
    "These are often used to represent a 3rd order tensor.<br>"
   ]
  },
  {
   "cell_type": "code",
   "execution_count": 16,
   "id": "5d9fc0e8",
   "metadata": {},
   "outputs": [
    {
     "name": "stdout",
     "output_type": "stream",
     "text": [
      "[[[1 2 3 4]\n",
      "  [5 6 7 8]]\n",
      "\n",
      " [[1 2 3 4]\n",
      "  [5 6 7 8]]]\n"
     ]
    }
   ],
   "source": [
    "d = np.array([[[1,2,3,4],[5,6,7,8]],\n",
    "              [[1,2,3,4],[5,6,7,8]]])\n",
    "print(d)"
   ]
  },
  {
   "cell_type": "markdown",
   "id": "ebd26f1a",
   "metadata": {},
   "source": [
    "## Check the Dimension of array\n",
    "NumPy Arrays provides the ndim attribute that returns an integer that tells us how many dimensions the array have."
   ]
  },
  {
   "cell_type": "code",
   "execution_count": 18,
   "id": "04041f66",
   "metadata": {},
   "outputs": [
    {
     "name": "stdout",
     "output_type": "stream",
     "text": [
      "0\n",
      "1\n",
      "2\n",
      "3\n"
     ]
    }
   ],
   "source": [
    "print(a.ndim)\n",
    "print(b.ndim)\n",
    "print(c.ndim)\n",
    "print(d.ndim)"
   ]
  },
  {
   "cell_type": "markdown",
   "id": "4bc6b31b",
   "metadata": {},
   "source": [
    "## Define array the dimension specifying.\n",
    "An array can have any number of dimensions.<br>\n",
    "When the array is created, you can define the number of dimensions by using the ndmin argument.<br>"
   ]
  },
  {
   "cell_type": "code",
   "execution_count": 63,
   "id": "2097afbd",
   "metadata": {},
   "outputs": [
    {
     "name": "stdout",
     "output_type": "stream",
     "text": [
      "[[[[[1 2 3 4]]]]]\n",
      "number of dimensions : 5\n"
     ]
    }
   ],
   "source": [
    "arr = np.array([1, 2, 3, 4], ndmin=5)\n",
    "\n",
    "print(arr)\n",
    "print('number of dimensions :', arr.ndim)"
   ]
  },
  {
   "cell_type": "markdown",
   "id": "0ab1a550",
   "metadata": {},
   "source": [
    "# Create Following\n",
    "1) array with one,zero<br>\n",
    "2) array with random number<br>\n",
    "3) array with identity matrics<br>\n",
    "4) array with arange function<br>\n",
    "5) array with lenspace function<br>\n",
    "6) array with like one,zero<br>"
   ]
  },
  {
   "cell_type": "markdown",
   "id": "4fa1ecdb",
   "metadata": {},
   "source": [
    "# Array with ones\n",
    "np.ones(shape, dtype=None, order='C', *, like=None)<br>\n",
    "Return a new array of given shape and type, filled with ones.<br>\n",
    "\n",
    "Parameters<br>\n",
    "shape = int or sequence of ints<br>\n",
    "Shape of the new array, e.g., (2, 3) or 2.<br>\n",
    "\n",
    "dtype = data-type, optional <br>\n",
    "The desired data-type for the array, e.g., np.int8. Default is np.float64.<br>"
   ]
  },
  {
   "cell_type": "code",
   "execution_count": 33,
   "id": "b39898bd",
   "metadata": {},
   "outputs": [
    {
     "data": {
      "text/plain": [
       "array([1., 1., 1., 1., 1.])"
      ]
     },
     "execution_count": 33,
     "metadata": {},
     "output_type": "execute_result"
    }
   ],
   "source": [
    "# array with one\n",
    "e = np.ones(5)\n",
    "e"
   ]
  },
  {
   "cell_type": "code",
   "execution_count": 35,
   "id": "8a26d188",
   "metadata": {},
   "outputs": [
    {
     "data": {
      "text/plain": [
       "array([1, 1, 1, 1, 1])"
      ]
     },
     "execution_count": 35,
     "metadata": {},
     "output_type": "execute_result"
    }
   ],
   "source": [
    "f = np.ones((5,),dtype = int)\n",
    "f"
   ]
  },
  {
   "cell_type": "code",
   "execution_count": 38,
   "id": "7e061bc6",
   "metadata": {},
   "outputs": [
    {
     "data": {
      "text/plain": [
       "array([[1, 1, 1],\n",
       "       [1, 1, 1]])"
      ]
     },
     "execution_count": 38,
     "metadata": {},
     "output_type": "execute_result"
    }
   ],
   "source": [
    "g = np.ones((2,3),dtype=int)\n",
    "g"
   ]
  },
  {
   "cell_type": "markdown",
   "id": "007c1965",
   "metadata": {},
   "source": [
    "# Array with zeros\n",
    "np.zeros(shape, dtype=None, order='C', *, like=None)<br>\n",
    "Return a new array of given shape and type, filled with zeros.<br>\n",
    "\n",
    "Parameters<br>\n",
    "shape = int or sequence of ints<br>\n",
    "Shape of the new array, e.g., (2, 3) or 2.<br>\n",
    "\n",
    "dtype = data-type, optional <br>\n",
    "The desired data-type for the array, e.g., np.int8. Default is np.float64.<br>"
   ]
  },
  {
   "cell_type": "code",
   "execution_count": 39,
   "id": "3029013d",
   "metadata": {},
   "outputs": [
    {
     "data": {
      "text/plain": [
       "array([0., 0., 0., 0., 0.])"
      ]
     },
     "execution_count": 39,
     "metadata": {},
     "output_type": "execute_result"
    }
   ],
   "source": [
    "h = np.zeros(5)\n",
    "h"
   ]
  },
  {
   "cell_type": "code",
   "execution_count": 41,
   "id": "4beccce1",
   "metadata": {},
   "outputs": [
    {
     "data": {
      "text/plain": [
       "array([[0, 0, 0, 0],\n",
       "       [0, 0, 0, 0]])"
      ]
     },
     "execution_count": 41,
     "metadata": {},
     "output_type": "execute_result"
    }
   ],
   "source": [
    "i = np.zeros((2,4),dtype = int)\n",
    "i"
   ]
  },
  {
   "cell_type": "markdown",
   "id": "247ae257",
   "metadata": {},
   "source": [
    "# Array with fill values\n",
    "numpy.full(shape, fill_value, dtype=None, order='C', *, like=None)<br>\n",
    "Return a new array of given shape and type, filled with fill_value.<br>\n",
    "\n",
    "Parameters <br>\n",
    "shape = int or sequence of ints <br>\n",
    "Shape of the new array, e.g., (2, 3) or 2.<br>\n",
    "\n",
    "fill_value scalar or array_like<br>\n",
    "Fill value.<br>\n",
    "\n",
    "dtype = data-type, optional<br>\n",
    "The desired data-type for the array The default, None, means<br>\n",
    "np.array(fill_value).dtype.<br>"
   ]
  },
  {
   "cell_type": "code",
   "execution_count": 44,
   "id": "615c1b01",
   "metadata": {},
   "outputs": [
    {
     "data": {
      "text/plain": [
       "array([[inf, inf, inf, inf],\n",
       "       [inf, inf, inf, inf]])"
      ]
     },
     "execution_count": 44,
     "metadata": {},
     "output_type": "execute_result"
    }
   ],
   "source": [
    "j = np.full((2,4),np.inf) # np.inf means infinity\n",
    "j"
   ]
  },
  {
   "cell_type": "code",
   "execution_count": 46,
   "id": "ae624cef",
   "metadata": {},
   "outputs": [
    {
     "data": {
      "text/plain": [
       "array([[5, 5, 5, 5],\n",
       "       [5, 5, 5, 5],\n",
       "       [5, 5, 5, 5]])"
      ]
     },
     "execution_count": 46,
     "metadata": {},
     "output_type": "execute_result"
    }
   ],
   "source": [
    "k = np.full((3,4),5)\n",
    "k"
   ]
  },
  {
   "cell_type": "code",
   "execution_count": 47,
   "id": "7e327a0f",
   "metadata": {},
   "outputs": [
    {
     "data": {
      "text/plain": [
       "array([['Mayu', 'Mayu', 'Mayu', 'Mayu'],\n",
       "       ['Mayu', 'Mayu', 'Mayu', 'Mayu'],\n",
       "       ['Mayu', 'Mayu', 'Mayu', 'Mayu']], dtype='<U4')"
      ]
     },
     "execution_count": 47,
     "metadata": {},
     "output_type": "execute_result"
    }
   ],
   "source": [
    "l = np.full((3,4),'Mayu')\n",
    "l"
   ]
  },
  {
   "cell_type": "markdown",
   "id": "242d2994",
   "metadata": {},
   "source": [
    "# ones Like\n",
    "numpy.ones_like(a, dtype=None, order='K', subok=True, shape=None)<br>\n",
    "Return an array of ones with the same shape and type as a given array.<br>\n",
    "\n",
    "Parameters<br>\n",
    "a array_like<br>\n",
    "The shape and data-type of a define these same attributes of the returned array.<br>\n",
    "\n",
    "dtypedata-type, optional<br>\n",
    "Overrides the data type of the result.<br>"
   ]
  },
  {
   "cell_type": "code",
   "execution_count": 48,
   "id": "b5ff6b3c",
   "metadata": {},
   "outputs": [
    {
     "data": {
      "text/plain": [
       "array([[0, 1, 2],\n",
       "       [3, 4, 5]])"
      ]
     },
     "execution_count": 48,
     "metadata": {},
     "output_type": "execute_result"
    }
   ],
   "source": [
    "x = np.arange(6)\n",
    "x = x.reshape((2, 3))\n",
    "x\n"
   ]
  },
  {
   "cell_type": "code",
   "execution_count": 52,
   "id": "0aa6d832",
   "metadata": {},
   "outputs": [
    {
     "data": {
      "text/plain": [
       "array([[1, 1, 1],\n",
       "       [1, 1, 1]])"
      ]
     },
     "execution_count": 52,
     "metadata": {},
     "output_type": "execute_result"
    }
   ],
   "source": [
    "np.ones_like(x)\n"
   ]
  },
  {
   "cell_type": "markdown",
   "id": "9abdaff3",
   "metadata": {},
   "source": [
    "# zeros Like\n",
    "numpy.zeros_like(a, dtype=None, order='K', subok=True, shape=None)<br>\n",
    "Return an array of zeros with the same shape and type as a given array.<br>\n",
    "\n",
    "Parameters<br>\n",
    "a array_like<br>\n",
    "The shape and data-type of a define these same attributes of the returned array.<br>\n",
    "\n",
    "dtype data-type, optional<br>\n",
    "Overrides the data type of the result.<br>"
   ]
  },
  {
   "cell_type": "code",
   "execution_count": 53,
   "id": "f7566048",
   "metadata": {},
   "outputs": [
    {
     "data": {
      "text/plain": [
       "array([[0, 0, 0],\n",
       "       [0, 0, 0]])"
      ]
     },
     "execution_count": 53,
     "metadata": {},
     "output_type": "execute_result"
    }
   ],
   "source": [
    "np.zeros_like(x)"
   ]
  },
  {
   "cell_type": "markdown",
   "id": "9a4415f3",
   "metadata": {},
   "source": [
    "# Identity matrics\n",
    "numpy.identity(n, dtype=None, *, like=None)<br>\n",
    "Return the identity array.<br>\n",
    "\n",
    "The identity array is a square array with ones on the main diagonal.<br>\n",
    "\n",
    "Parameters<br>\n",
    "n int<br>\n",
    "Number of rows (and columns) in n x n output.<br>\n",
    "\n",
    "dtype data-type, optional<br>\n",
    "Data-type of the output. Defaults to float.<br>"
   ]
  },
  {
   "cell_type": "code",
   "execution_count": 54,
   "id": "d3e625b2",
   "metadata": {},
   "outputs": [
    {
     "data": {
      "text/plain": [
       "array([[1., 0., 0., 0., 0.],\n",
       "       [0., 1., 0., 0., 0.],\n",
       "       [0., 0., 1., 0., 0.],\n",
       "       [0., 0., 0., 1., 0.],\n",
       "       [0., 0., 0., 0., 1.]])"
      ]
     },
     "execution_count": 54,
     "metadata": {},
     "output_type": "execute_result"
    }
   ],
   "source": [
    "m = np.identity(5)\n",
    "m"
   ]
  },
  {
   "cell_type": "code",
   "execution_count": 57,
   "id": "4091d04f",
   "metadata": {},
   "outputs": [
    {
     "data": {
      "text/plain": [
       "array([[1, 0, 0],\n",
       "       [0, 1, 0],\n",
       "       [0, 0, 1]])"
      ]
     },
     "execution_count": 57,
     "metadata": {},
     "output_type": "execute_result"
    }
   ],
   "source": [
    "n = np.identity(3,dtype = int)\n",
    "n"
   ]
  },
  {
   "cell_type": "markdown",
   "id": "09759803",
   "metadata": {},
   "source": [
    "# Arange Function\n",
    "numpy.arange(start,stop, step,dtype=None, *, like=None)<br>\n",
    "Return evenly spaced values within a given interval.<br>\n",
    "\n",
    "arange can be called with a varying number of positional arguments:<br>\n",
    "\n",
    "arange(stop): Values are generated within the  interval (0, stop) (in other words, the interval including start but excluding <br>stop)<br>\n",
    "\n",
    "arange(start, stop): Values are generated within the interval (start, stop).(in other words, the interval including start but <br>excluding stop)<br>\n",
    "\n",
    "arange(start, stop, step) Values are generated within the interval (start, stop), with spacing between values given by step.<br>\n",
    "(in other words, the interval including start but excluding stop with step as size)<br>\n",
    "\n",
    "For integer arguments the function is roughly equivalent to the Python built-in range, but returns an ndarray rather than a <br>range instance."
   ]
  },
  {
   "cell_type": "code",
   "execution_count": 59,
   "id": "af180600",
   "metadata": {},
   "outputs": [
    {
     "data": {
      "text/plain": [
       "array([5, 6, 7, 8, 9])"
      ]
     },
     "execution_count": 59,
     "metadata": {},
     "output_type": "execute_result"
    }
   ],
   "source": [
    "o = np.arange(5,10,1)\n",
    "o"
   ]
  },
  {
   "cell_type": "code",
   "execution_count": 60,
   "id": "62062fdd",
   "metadata": {},
   "outputs": [
    {
     "data": {
      "text/plain": [
       "array([10, 13, 16, 19])"
      ]
     },
     "execution_count": 60,
     "metadata": {},
     "output_type": "execute_result"
    }
   ],
   "source": [
    "p = np.arange(10,20,3)\n",
    "p"
   ]
  },
  {
   "cell_type": "markdown",
   "id": "a052d57f",
   "metadata": {},
   "source": [
    "# linspace Function\n",
    "numpy.linspace\n",
    "numpy.linspace(start, stop, num=50, endpoint=True, retstep=False, dtype=None, axis=0)\n",
    "Return evenly spaced numbers over a specified interval.\n",
    "\n",
    "Returns num evenly spaced samples, calculated over the interval [start, stop].\n",
    "\n",
    "The endpoint of the interval can optionally be excluded."
   ]
  },
  {
   "cell_type": "code",
   "execution_count": 62,
   "id": "e67f030d",
   "metadata": {},
   "outputs": [
    {
     "data": {
      "text/plain": [
       "array([ 5.        ,  6.07142857,  7.14285714,  8.21428571,  9.28571429,\n",
       "       10.35714286, 11.42857143, 12.5       , 13.57142857, 14.64285714,\n",
       "       15.71428571, 16.78571429, 17.85714286, 18.92857143, 20.        ])"
      ]
     },
     "execution_count": 62,
     "metadata": {},
     "output_type": "execute_result"
    }
   ],
   "source": [
    "q = np.linspace(5,20,15)\n",
    "q"
   ]
  }
 ],
 "metadata": {
  "kernelspec": {
   "display_name": "Python 3 (ipykernel)",
   "language": "python",
   "name": "python3"
  },
  "language_info": {
   "codemirror_mode": {
    "name": "ipython",
    "version": 3
   },
   "file_extension": ".py",
   "mimetype": "text/x-python",
   "name": "python",
   "nbconvert_exporter": "python",
   "pygments_lexer": "ipython3",
   "version": "3.9.12"
  }
 },
 "nbformat": 4,
 "nbformat_minor": 5
}
